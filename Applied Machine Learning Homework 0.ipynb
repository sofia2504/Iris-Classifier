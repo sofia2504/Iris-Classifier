{
 "cells": [
  {
   "cell_type": "code",
   "execution_count": 6,
   "id": "48475e21",
   "metadata": {},
   "outputs": [],
   "source": [
    "import pandas as pd\n",
    "from sklearn.model_selection import train_test_split\n",
    "\n",
    "from matplotlib import pyplot as plt\n",
    "import numpy"
   ]
  },
  {
   "cell_type": "code",
   "execution_count": 8,
   "id": "bc611c5b",
   "metadata": {},
   "outputs": [],
   "source": [
    "#Load the CSV dataset\n",
    "file_path = 'iris/iris.data'\n",
    "df = pd.read_csv(file_path)"
   ]
  },
  {
   "cell_type": "code",
   "execution_count": 10,
   "id": "0dba9edd",
   "metadata": {},
   "outputs": [],
   "source": [
    "# Split the dataset into training and testing sets\n",
    "# test_size is the dataset proportion placed in the test set\n",
    "# Random state is used for reproducibility\n",
    "train_df , test_df = train_test_split ( df , test_size =0.2 ,\n",
    "random_state =42)"
   ]
  },
  {
   "cell_type": "code",
   "execution_count": 11,
   "id": "43c13cdf",
   "metadata": {},
   "outputs": [
    {
     "name": "stdout",
     "output_type": "stream",
     "text": [
      " Training data : \n",
      "     5.1  3.5  1.4  0.2      Iris-setosa\n",
      "22   5.1  3.3  1.7  0.5      Iris-setosa\n",
      "15   5.4  3.9  1.3  0.4      Iris-setosa\n",
      "65   5.6  3.0  4.5  1.5  Iris-versicolor\n",
      "11   4.8  3.0  1.4  0.1      Iris-setosa\n",
      "42   5.0  3.5  1.6  0.6      Iris-setosa\n",
      "..   ...  ...  ...  ...              ...\n",
      "71   6.3  2.5  4.9  1.5  Iris-versicolor\n",
      "106  7.3  2.9  6.3  1.8   Iris-virginica\n",
      "14   5.7  4.4  1.5  0.4      Iris-setosa\n",
      "92   5.0  2.3  3.3  1.0  Iris-versicolor\n",
      "102  6.3  2.9  5.6  1.8   Iris-virginica\n",
      "\n",
      "[119 rows x 5 columns]\n",
      " \\ nTesting data : \n",
      "     5.1  3.5  1.4  0.2      Iris-setosa\n",
      "73   6.4  2.9  4.3  1.3  Iris-versicolor\n",
      "18   5.1  3.8  1.5  0.3      Iris-setosa\n",
      "117  7.7  2.6  6.9  2.3   Iris-virginica\n",
      "78   5.7  2.6  3.5  1.0  Iris-versicolor\n",
      "76   6.7  3.0  5.0  1.7  Iris-versicolor\n"
     ]
    },
    {
     "name": "stderr",
     "output_type": "stream",
     "text": [
      "<>:4: SyntaxWarning: invalid escape sequence '\\ '\n",
      "<>:4: SyntaxWarning: invalid escape sequence '\\ '\n",
      "C:\\Users\\Sofia Beyerlein\\AppData\\Local\\Temp\\ipykernel_21288\\2857394015.py:4: SyntaxWarning: invalid escape sequence '\\ '\n",
      "  print ( \" \\ nTesting data : \" )\n"
     ]
    }
   ],
   "source": [
    "# Now you have train_df for training and test_df for testing\n",
    "print ( \" Training data : \" )\n",
    "print ( train_df )\n",
    "print ( \" \\ nTesting data : \" )\n",
    "print ( test_df . head () )"
   ]
  },
  {
   "cell_type": "code",
   "execution_count": 12,
   "id": "efef663d",
   "metadata": {},
   "outputs": [
    {
     "data": {
      "image/png": "[encoded data removed]",
      "text/plain": [
       "<Figure size 640x480 with 1 Axes>"
      ]
     },
     "metadata": {},
     "output_type": "display_data"
    }
   ],
   "source": [
    "#saving the attributes of training data\n",
    "sepal_length = train_df.iloc[:, 0]\n",
    "sepal_width = train_df.iloc[:, 1]\n",
    "petal_length = train_df.iloc[:, 2]\n",
    "petal_width = train_df.iloc[:, 3]\n",
    "\n",
    "species = train_df.iloc[:, 4]\n",
    "color = []\n",
    "\n",
    "#assigning an rbg value to the species in the array\n",
    "for specie in species:\n",
    "    if specie == \"Iris-setosa\":\n",
    "        color.append(\"r\")\n",
    "    if specie == \"Iris-versicolor\":\n",
    "        color.append(\"b\")\n",
    "    if specie == \"Iris-virginica\":\n",
    "        color.append(\"g\")\n",
    "        \n",
    "plt.scatter(petal_width, petal_width, c=color)\n",
    "plt.savefig(\"plot.png\")"
   ]
  }
 ],
 "metadata": {
  "kernelspec": {
   "display_name": ".venv",
   "language": "python",
   "name": "python3"
  },
  "language_info": {
   "codemirror_mode": {
    "name": "ipython",
    "version": 3
   },
   "file_extension": ".py",
   "mimetype": "text/x-python",
   "name": "python",
   "nbconvert_exporter": "python",
   "pygments_lexer": "ipython3",
   "version": "3.12.2"
  }
 },
 "nbformat": 4,
 "nbformat_minor": 5
}
